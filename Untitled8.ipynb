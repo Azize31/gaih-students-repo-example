{
  "nbformat": 4,
  "nbformat_minor": 0,
  "metadata": {
    "colab": {
      "name": "Untitled8.ipynb",
      "provenance": [],
      "authorship_tag": "ABX9TyN+p839Q46ogGD5m6bJB+5M"
    },
    "kernelspec": {
      "name": "python3",
      "display_name": "Python 3"
    }
  },
  "cells": [
    {
      "cell_type": "code",
      "metadata": {
        "colab": {
          "base_uri": "https://localhost:8080/"
        },
        "id": "6IAvEIXt4Pu-",
        "outputId": "5dfc6f98-0d82-43c3-eeed-adc10cfab077"
      },
      "source": [
        "import random \r\n",
        "matris = [[0 for x in range(3)] for y in range(3)]\r\n",
        "print(matris)\r\n",
        "\r\n",
        "for sayi in range(1,100+1):\r\n",
        "    if sayi > 1:\r\n",
        "        for i in range (2,sayi):\r\n",
        "            if (sayi % i) == 0:\r\n",
        "                break\r\n",
        "        else:\r\n",
        "            print(sayi)\r\n",
        "            \r\n",
        "prime_num = [2,3,5,7,11,13,17,19,23,29,31,37,41,43,47,53,59,61,67,71,73,79,83,89,97]\r\n",
        "\r\n",
        "matris = [random.sample(prime_num, 3) \r\n",
        "          for x in range(3)\r\n",
        "          for y in range(1)\r\n",
        "         ]\r\n",
        "print(matris)"
      ],
      "execution_count": 2,
      "outputs": [
        {
          "output_type": "stream",
          "text": [
            "[[0, 0, 0], [0, 0, 0], [0, 0, 0]]\n",
            "2\n",
            "3\n",
            "5\n",
            "7\n",
            "11\n",
            "13\n",
            "17\n",
            "19\n",
            "23\n",
            "29\n",
            "31\n",
            "37\n",
            "41\n",
            "43\n",
            "47\n",
            "53\n",
            "59\n",
            "61\n",
            "67\n",
            "71\n",
            "73\n",
            "79\n",
            "83\n",
            "89\n",
            "97\n",
            "[[97, 59, 83], [13, 71, 47], [11, 7, 17]]\n"
          ],
          "name": "stdout"
        }
      ]
    },
    {
      "cell_type": "code",
      "metadata": {
        "id": "G53Do2rM4nh-"
      },
      "source": [
        ""
      ],
      "execution_count": null,
      "outputs": []
    }
  ]
}