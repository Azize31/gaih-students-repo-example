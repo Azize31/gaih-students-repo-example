{
  "nbformat": 4,
  "nbformat_minor": 0,
  "metadata": {
    "colab": {
      "name": "Untitled9.ipynb",
      "provenance": []
    },
    "kernelspec": {
      "name": "python3",
      "display_name": "Python 3"
    }
  },
  "cells": [
    {
      "cell_type": "code",
      "metadata": {
        "id": "89fpbkZgAElx"
      },
      "source": [
        "for sayi in range(1,1000+1):\r\n",
        "    if sayi > 1:\r\n",
        "        for i in range (2,sayi):\r\n",
        "            if (sayi % i) == 0:\r\n",
        "                break\r\n",
        "        else:\r\n",
        "            print(sayi)     \r\n",
        "def primes(prime_first,prime_second): \r\n",
        "    \r\n",
        "     \r\n",
        "        if (i > 0 or i < 500 ) :\r\n",
        "            return (\"prime_first\")\r\n",
        "        else:\r\n",
        "            for i in range(0,1000) :\r\n",
        "                return(\"prime_second\") "
      ],
      "execution_count": null,
      "outputs": []
    }
  ]
}