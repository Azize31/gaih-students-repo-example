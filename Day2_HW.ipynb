{
  "nbformat": 4,
  "nbformat_minor": 0,
  "metadata": {
    "colab": {
      "name": "Untitled9.ipynb",
      "provenance": [],
      "authorship_tag": "ABX9TyN+p839Q46ogGD5m6bJB+5M",
      "include_colab_link": true
    },
    "kernelspec": {
      "name": "python3",
      "display_name": "Python 3"
    }
  },
  "cells": [
    {
      "cell_type": "markdown",
      "metadata": {
        "id": "view-in-github",
        "colab_type": "text"
      },
      "source": [
        "<a href=\"https://colab.research.google.com/github/Azize31/gaih-students-repo-example/blob/main/Day2_HW.ipynb\" target=\"_parent\"><img src=\"https://colab.research.google.com/assets/colab-badge.svg\" alt=\"Open In Colab\"/></a>"
      ]
    },
    {
      "cell_type": "code",
      "metadata": {
        "colab": {
          "base_uri": "https://localhost:8080/"
        },
        "id": "89fpbkZgAElx",
        "outputId": "90a3f32a-0de1-4c89-9d58-7ce887d35fcd"
      },
      "source": [
        "import random \r\n",
        "matris = [[0 for x in range(3)] for y in range(3)]\r\n",
        "print(matris)\r\n",
        "\r\n",
        "for sayi in range(1,100+1):\r\n",
        "    if sayi > 1:\r\n",
        "        for i in range (2,sayi):\r\n",
        "            if (sayi % i) == 0:\r\n",
        "                break\r\n",
        "        else:\r\n",
        "            print(sayi)\r\n",
        "            \r\n",
        "prime_num = [2,3,5,7,11,13,17,19,23,29,31,37,41,43,47,53,59,61,67,71,73,79,83,89,97]\r\n",
        "\r\n",
        "matris = [random.sample(prime_num, 3) \r\n",
        "          for x in range(3)\r\n",
        "          for y in range(1)\r\n",
        "         ]\r\n",
        "print(matris)"
      ],
      "execution_count": 1,
      "outputs": [
        {
          "output_type": "stream",
          "text": [
            "[[0, 0, 0], [0, 0, 0], [0, 0, 0]]\n",
            "2\n",
            "3\n",
            "5\n",
            "7\n",
            "11\n",
            "13\n",
            "17\n",
            "19\n",
            "23\n",
            "29\n",
            "31\n",
            "37\n",
            "41\n",
            "43\n",
            "47\n",
            "53\n",
            "59\n",
            "61\n",
            "67\n",
            "71\n",
            "73\n",
            "79\n",
            "83\n",
            "89\n",
            "97\n",
            "[[11, 89, 2], [2, 37, 59], [11, 67, 41]]\n"
          ],
          "name": "stdout"
        }
      ]
    },
    {
      "cell_type": "code",
      "metadata": {
        "id": "bB66SxQqAHIn"
      },
      "source": [
        ""
      ],
      "execution_count": null,
      "outputs": []
    }
  ]
}