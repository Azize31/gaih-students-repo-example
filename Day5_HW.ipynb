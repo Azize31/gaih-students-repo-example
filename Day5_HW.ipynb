{
  "nbformat": 4,
  "nbformat_minor": 0,
  "metadata": {
    "colab": {
      "name": "Untitled9.ipynb",
      "provenance": []
    },
    "kernelspec": {
      "name": "python3",
      "display_name": "Python 3"
    }
  },
  "cells": [
    {
      "cell_type": "code",
      "metadata": {
        "id": "89fpbkZgAElx"
      },
      "source": [
        "import random\r\n",
        "class Hangman():\r\n",
        "\r\n",
        "# Kelime Listesi\r\n",
        "    options =  [{0: \"domates\",\r\n",
        "                 1: \"pasta\",\r\n",
        "                 2: \"kurabiye\",\r\n",
        "                 3: \"biber\"}\r\n",
        "               ]\r\n",
        "    \r\n",
        "    def __init__ (self, options):\r\n",
        "        self.options = options\r\n",
        "        self.kelime = []\r\n",
        "        \r\n",
        "# Alfabeyi Listeleme        \r\n",
        "import string\r\n",
        "string.ascii_lowercase\r\n",
        "a = list(string.ascii_lowercase)\r\n",
        "\r\n",
        "def hangman(self):\r\n",
        "    options = [\"domates\",\"pasta\",\"kurabiye\",\"biber\"]\r\n",
        "    hangman = hangman(random.choice(options))\r\n",
        "    print(hangman.options)\r\n",
        " def hangman(self):\r\n",
        "    options = [\"domates\",\"pasta\",\"kurabiye\",\"biber\"]\r\n",
        "    attempts = 6\r\n",
        "    hangman = hangman(random.choice(options))\r\n",
        "    for attempts in range(1,attempts + 1):\r\n",
        "        result = hangman.ask_letter()\r\n",
        "        if result == \"bildiniz\":\r\n",
        "            break\r\n",
        "            print(\"{0} attempts remain\".format(attempts))\r\n",
        "            print(\"Kelime\"+ hangman.options)\r\n",
        "            print(\"Bitti\")\r\n",
        "   def __init__(self, options):\r\n",
        "        self.options = kelime\r\n",
        "        self.letters = \"\"\r\n",
        "   def ask_letter(self):\r\n",
        "        while True:\r\n",
        "            letter = input(\"Harf Tahmin Edin: \")\r\n",
        "            if letter in self.letters:\r\n",
        "                print(\"Malesef\")\r\n",
        "                continue\r\n",
        "            self.letters += letter\r\n",
        "            if \"_\" in self.grid:\r\n",
        "                return \"bad letter\"\r\n",
        "            else:\r\n",
        "                return \"win\"\r\n",
        "print(input(\"Guess a letter: \"))"
      ],
      "execution_count": null,
      "outputs": []
    }
  ]
}