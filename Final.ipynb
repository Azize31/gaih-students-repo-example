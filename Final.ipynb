{
  "nbformat": 4,
  "nbformat_minor": 0,
  "metadata": {
    "colab": {
      "name": "Untitled10.ipynb",
      "provenance": []
    },
    "kernelspec": {
      "name": "python3",
      "display_name": "Python 3"
    }
  },
  "cells": [
    {
      "cell_type": "code",
      "metadata": {
        "id": "fCJpwmD3EJDK"
      },
      "source": [
        "class Recipes(object):\r\n",
        "    def __init__(self, name, ingridients, cooking_time, portions, instructions):\r\n",
        "        self.name = name\r\n",
        "        self.ingridients = ingridients\r\n",
        "        self.cooking_time = cooking_time\r\n",
        "        self.portions = portions\r\n",
        "        self.instructions = instructions\r\n",
        "        \r\n",
        "    def name(self):\r\n",
        "        print(\"Yemeğin Adı :\",  self.name)\r\n",
        "    \r\n",
        "    def ingridients(self):\r\n",
        "        print(\"İçindekiler :\", self.ingridients)\r\n",
        "    \r\n",
        "    def portions(self):\r\n",
        "        print(\"Gerekli Ölçüler :\", self.portions)\r\n",
        "        \r\n",
        "    def instructions(self):\r\n",
        "        print(\"Yapılışı :\", self.instructions)\r\n",
        "        \r\n",
        "    def cooking_time(self):\r\n",
        "        print(\"Pişirme Zamanı :\", self.cooking_time)\r\n",
        "        \r\n",
        "class Recipe1():\r\n",
        "    def getname(self):\r\n",
        "        Mercimek_Çorbası = Recipe(\"Mercimek_Çorbası\")\r\n",
        "        print(\"Mercimek_Çorbası\" + self.name)\r\n",
        "        \r\n",
        "    def getingridients(self):\r\n",
        "        İçindekiler = [\"Mercimek\",\"Yağ\",\"Soğan\",\"Su\",\"Havuç\",\"Tuz\",\"Limon\"]\r\n",
        "        print(\"İçindekiler\" + self.ingridients)\r\n",
        "        \r\n",
        "    def getportions(self):\r\n",
        "        Miktarlar = \r\n",
        "        "
      ],
      "execution_count": null,
      "outputs": []
    }
  ]
}