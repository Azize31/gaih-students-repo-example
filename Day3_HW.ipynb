{
  "nbformat": 4,
  "nbformat_minor": 0,
  "metadata": {
    "colab": {
      "name": "Untitled8.ipynb",
      "provenance": [],
      "authorship_tag": "ABX9TyOC0v1W3nWMW+EoJjsLA9c3",
      "include_colab_link": true
    },
    "kernelspec": {
      "name": "python3",
      "display_name": "Python 3"
    }
  },
  "cells": [
    {
      "cell_type": "markdown",
      "metadata": {
        "id": "view-in-github",
        "colab_type": "text"
      },
      "source": [
        "<a href=\"https://colab.research.google.com/github/Azize31/gaih-students-repo-example/blob/homework/Day3_HW.ipynb\" target=\"_parent\"><img src=\"https://colab.research.google.com/assets/colab-badge.svg\" alt=\"Open In Colab\"/></a>"
      ]
    },
    {
      "cell_type": "code",
      "metadata": {
        "colab": {
          "base_uri": "https://localhost:8080/"
        },
        "id": "6IAvEIXt4Pu-",
        "outputId": "2f3e2f0d-67dd-4e43-fe3e-71eb46c7b3a7"
      },
      "source": [
        "Midterm  = [45,63,88,82,56]\r\n",
        "Final    = [74,65,92,76,90]\r\n",
        "Homework = [80,80,95,85,100]\r\n",
        "Names = [\"Elif Mutlu\",\"Kutay Demir\",\"Ada Sezgin\",\"Sinem Bilgin\",\"Emir Kaygılı\"]\r\n",
        "Info = {\"Elif Mutlu\"  : [\"45,74,80\"],\r\n",
        "        \"Kutay Demir\" : [\"63,65,80\"],\r\n",
        "        \"Ada Sezgin\"  : [\"88,92,95\"],\r\n",
        "        \"Sinem Bİlgin\": [\"82,76,85\"],\r\n",
        "        \"Emir Kaygılı\": [\"56,90,100\"]\r\n",
        "       }\r\n",
        "list = [a+b+c for a,b,c in zip(Midterm,Final,Homework)]\r\n",
        "\r\n",
        "print(list)\r\n",
        "Ortalama = [list[0]/3, list[1]/3,list[2]/3,list[3]/3,list[4]/3]\r\n",
        "           \r\n",
        "print(Ortalama)\r\n",
        "Ortalama.sort()\r\n",
        "Ortalama\r\n",
        "max(Ortalama)\r\n",
        "print(\"Tebrikler Ada Sezgin!!\")"
      ],
      "execution_count": 3,
      "outputs": [
        {
          "output_type": "stream",
          "text": [
            "[199, 208, 275, 243, 246]\n",
            "[66.33333333333333, 69.33333333333333, 91.66666666666667, 81.0, 82.0]\n",
            "Tebrikler Ada Sezgin!!\n"
          ],
          "name": "stdout"
        }
      ]
    },
    {
      "cell_type": "code",
      "metadata": {
        "id": "G53Do2rM4nh-"
      },
      "source": [
        ""
      ],
      "execution_count": null,
      "outputs": []
    }
  ]
}